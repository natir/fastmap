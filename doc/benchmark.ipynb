{
 "cells": [
  {
   "cell_type": "code",
   "execution_count": 1,
   "metadata": {},
   "outputs": [
    {
     "data": {
      "text/html": [
       "<style>.container { width:90% !important; }</style>"
      ],
      "text/plain": [
       "<IPython.core.display.HTML object>"
      ]
     },
     "metadata": {},
     "output_type": "display_data"
    }
   ],
   "source": [
    "import re\n",
    "import cbor2\n",
    "import datetime\n",
    "import pandas\n",
    "import altair\n",
    "\n",
    "from os import scandir\n",
    "\n",
    "altair.data_transformers.disable_max_rows()\n",
    "\n",
    "def custom_theme():\n",
    "    return {\n",
    "        'config': {\n",
    "            \"background\": \"#333\",\n",
    "            \"title\": {\"color\": \"#fff\"},\n",
    "            \"style\": {\"guide-label\": {\"fill\": \"#fff\"}, \"guide-title\": {\"fill\": \"#fff\"}},\n",
    "            \"axis\": {\"domainColor\": \"#fff\", \"gridColor\": \"#888\", \"tickColor\": \"#fff\"},\n",
    "            'view': {\n",
    "                'height': 750,\n",
    "                'width': 1000,\n",
    "            },\n",
    "            'range': {\n",
    "                #'category': {'scheme': 'bluepurple'}\n",
    "            }\n",
    "        }\n",
    "    }\n",
    "\n",
    "altair.themes.register('custom_theme', custom_theme)\n",
    "\n",
    "# enable the newly registered theme\n",
    "altair.themes.enable('custom_theme')\n",
    "\n",
    "from IPython.core.display import display, HTML\n",
    "display(HTML(\"<style>.container { width:90% !important; }</style>\"))"
   ]
  },
  {
   "cell_type": "code",
   "execution_count": 2,
   "metadata": {},
   "outputs": [],
   "source": [
    "filedata = list()\n",
    "measurement = set()\n",
    "for direntry in scandir(\"../target/criterion/data/main/blocksize/\"):\n",
    "    if direntry.is_dir():\n",
    "        algo = direntry.name\n",
    "        for blocksizeentry in scandir(direntry.path):\n",
    "            if blocksizeentry.is_dir():\n",
    "                blocksize = int(blocksizeentry.name)\n",
    "                local_measurement = max(dataentry.name for dataentry in scandir(blocksizeentry.path) if blocksizeentry.is_file)\n",
    "                filedata.append((algo, blocksizeentry.name, local_measurement))\n",
    " \n",
    "data = list()\n",
    "for algo, block, filename in filedata:\n",
    "    with open(f\"../target/criterion/data/main/blocksize/{algo}/{block}/{filename}\", \"rb\") as file:\n",
    "        obj = cbor2.load(file)\n",
    "        for value in obj[\"values\"]:\n",
    "            data.append((algo, int(block), value))\n",
    "\n",
    "raw_df = pandas.DataFrame(data, columns=[\"algorithm\", \"blocksize\", \"time\"])"
   ]
  },
  {
   "cell_type": "code",
   "execution_count": 3,
   "metadata": {},
   "outputs": [
    {
     "data": {
      "text/html": [
       "\n",
       "<div id=\"altair-viz-d6d54210cd0044e99c973de1afc81bff\"></div>\n",
       "<script type=\"text/javascript\">\n",
       "  (function(spec, embedOpt){\n",
       "    let outputDiv = document.currentScript.previousElementSibling;\n",
       "    if (outputDiv.id !== \"altair-viz-d6d54210cd0044e99c973de1afc81bff\") {\n",
       "      outputDiv = document.getElementById(\"altair-viz-d6d54210cd0044e99c973de1afc81bff\");\n",
       "    }\n",
       "    const paths = {\n",
       "      \"vega\": \"https://cdn.jsdelivr.net/npm//vega@5?noext\",\n",
       "      \"vega-lib\": \"https://cdn.jsdelivr.net/npm//vega-lib?noext\",\n",
       "      \"vega-lite\": \"https://cdn.jsdelivr.net/npm//vega-lite@4.8.1?noext\",\n",
       "      \"vega-embed\": \"https://cdn.jsdelivr.net/npm//vega-embed@6?noext\",\n",
       "    };\n",
       "\n",
       "    function loadScript(lib) {\n",
       "      return new Promise(function(resolve, reject) {\n",
       "        var s = document.createElement('script');\n",
       "        s.src = paths[lib];\n",
       "        s.async = true;\n",
       "        s.onload = () => resolve(paths[lib]);\n",
       "        s.onerror = () => reject(`Error loading script: ${paths[lib]}`);\n",
       "        document.getElementsByTagName(\"head\")[0].appendChild(s);\n",
       "      });\n",
       "    }\n",
       "\n",
       "    function showError(err) {\n",
       "      outputDiv.innerHTML = `<div class=\"error\" style=\"color:red;\">${err}</div>`;\n",
       "      throw err;\n",
       "    }\n",
       "\n",
       "    function displayChart(vegaEmbed) {\n",
       "      vegaEmbed(outputDiv, spec, embedOpt)\n",
       "        .catch(err => showError(`Javascript Error: ${err.message}<br>This usually means there's a typo in your chart specification. See the javascript console for the full traceback.`));\n",
       "    }\n",
       "\n",
       "    if(typeof define === \"function\" && define.amd) {\n",
       "      requirejs.config({paths});\n",
       "      require([\"vega-embed\"], displayChart, err => showError(`Error loading script: ${err.message}`));\n",
       "    } else if (typeof vegaEmbed === \"function\") {\n",
       "      displayChart(vegaEmbed);\n",
       "    } else {\n",
       "      loadScript(\"vega\")\n",
       "        .then(() => loadScript(\"vega-lite\"))\n",
       "        .then(() => loadScript(\"vega-embed\"))\n",
       "        .catch(showError)\n",
       "        .then(() => displayChart(vegaEmbed));\n",
       "    }\n",
       "  })({\"config\": {\"background\": \"#333\", \"title\": {\"color\": \"#fff\"}, \"style\": {\"guide-label\": {\"fill\": \"#fff\"}, \"guide-title\": {\"fill\": \"#fff\"}}, \"axis\": {\"domainColor\": \"#fff\", \"gridColor\": \"#888\", \"tickColor\": \"#fff\"}, \"view\": {\"height\": 750, \"width\": 1000}, \"range\": {}}, \"layer\": [{\"mark\": {\"type\": \"line\", \"point\": true}, \"encoding\": {\"color\": {\"type\": \"nominal\", \"field\": \"algorithm\"}, \"x\": {\"type\": \"quantitative\", \"field\": \"blocksize\", \"scale\": {\"base\": 2, \"type\": \"log\"}}, \"y\": {\"type\": \"quantitative\", \"aggregate\": \"median\", \"field\": \"time\"}}}, {\"mark\": {\"type\": \"errorband\", \"extent\": \"iqr\"}, \"encoding\": {\"color\": {\"type\": \"nominal\", \"field\": \"algorithm\"}, \"x\": {\"type\": \"quantitative\", \"field\": \"blocksize\", \"scale\": {\"base\": 2, \"type\": \"log\"}}, \"y\": {\"type\": \"quantitative\", \"field\": \"time\"}}}], \"data\": {\"name\": \"data-2d512294138456f6fd155fade7f7474d\"}, \"$schema\": \"https://vega.github.io/schema/vega-lite/v4.8.1.json\", \"datasets\": {\"data-2d512294138456f6fd155fade7f7474d\": [{\"algorithm\": \"in_place_fastx\", \"blocksize\": 1024, \"time\": 212476723.0}, {\"algorithm\": \"in_place_fastx\", \"blocksize\": 1024, \"time\": 212222016.0}, {\"algorithm\": \"in_place_fastx\", \"blocksize\": 1024, \"time\": 212121691.0}, {\"algorithm\": \"in_place_fastx\", \"blocksize\": 1024, \"time\": 211601412.0}, {\"algorithm\": \"in_place_fastx\", \"blocksize\": 1024, \"time\": 211677507.0}, {\"algorithm\": \"in_place_fastx\", \"blocksize\": 1024, \"time\": 215511885.0}, {\"algorithm\": \"in_place_fastx\", \"blocksize\": 1024, \"time\": 211859547.0}, {\"algorithm\": \"in_place_fastx\", \"blocksize\": 1024, \"time\": 211098443.0}, {\"algorithm\": \"in_place_fastx\", \"blocksize\": 1024, \"time\": 210930505.0}, {\"algorithm\": \"in_place_fastx\", \"blocksize\": 1024, \"time\": 210729203.0}, {\"algorithm\": \"in_place_fastx\", \"blocksize\": 1024, \"time\": 211248639.0}, {\"algorithm\": \"in_place_fastx\", \"blocksize\": 1024, \"time\": 211618928.0}, {\"algorithm\": \"in_place_fastx\", \"blocksize\": 1024, \"time\": 210824299.0}, {\"algorithm\": \"in_place_fastx\", \"blocksize\": 1024, \"time\": 210611315.0}, {\"algorithm\": \"in_place_fastx\", \"blocksize\": 1024, \"time\": 210932372.0}, {\"algorithm\": \"in_place_fastx\", \"blocksize\": 1024, \"time\": 210512943.0}, {\"algorithm\": \"in_place_fastx\", \"blocksize\": 1024, \"time\": 210477925.0}, {\"algorithm\": \"in_place_fastx\", \"blocksize\": 1024, \"time\": 210319301.0}, {\"algorithm\": \"in_place_fastx\", \"blocksize\": 1024, \"time\": 210349991.0}, {\"algorithm\": \"in_place_fastx\", \"blocksize\": 1024, \"time\": 211171059.0}, {\"algorithm\": \"in_place_fastx\", \"blocksize\": 1024, \"time\": 211146727.0}, {\"algorithm\": \"in_place_fastx\", \"blocksize\": 1024, \"time\": 210986775.0}, {\"algorithm\": \"in_place_fastx\", \"blocksize\": 1024, \"time\": 210312025.0}, {\"algorithm\": \"in_place_fastx\", \"blocksize\": 1024, \"time\": 210254517.0}, {\"algorithm\": \"in_place_fastx\", \"blocksize\": 1024, \"time\": 210203957.0}, {\"algorithm\": \"in_place_fastx\", \"blocksize\": 1024, \"time\": 210155838.0}, {\"algorithm\": \"in_place_fastx\", \"blocksize\": 1024, \"time\": 210159358.0}, {\"algorithm\": \"in_place_fastx\", \"blocksize\": 1024, \"time\": 210116553.0}, {\"algorithm\": \"in_place_fastx\", \"blocksize\": 1024, \"time\": 210005224.0}, {\"algorithm\": \"in_place_fastx\", \"blocksize\": 1024, \"time\": 210016565.0}, {\"algorithm\": \"in_place_fastx\", \"blocksize\": 1024, \"time\": 209918238.0}, {\"algorithm\": \"in_place_fastx\", \"blocksize\": 1024, \"time\": 210115262.0}, {\"algorithm\": \"in_place_fastx\", \"blocksize\": 1024, \"time\": 209954754.0}, {\"algorithm\": \"in_place_fastx\", \"blocksize\": 1024, \"time\": 210114817.0}, {\"algorithm\": \"in_place_fastx\", \"blocksize\": 1024, \"time\": 210062730.0}, {\"algorithm\": \"in_place_fastx\", \"blocksize\": 1024, \"time\": 209934377.0}, {\"algorithm\": \"in_place_fastx\", \"blocksize\": 1024, \"time\": 209875908.0}, {\"algorithm\": \"in_place_fastx\", \"blocksize\": 1024, \"time\": 209845717.0}, {\"algorithm\": \"in_place_fastx\", \"blocksize\": 1024, \"time\": 210042507.0}, {\"algorithm\": \"in_place_fastx\", \"blocksize\": 1024, \"time\": 209907335.0}, {\"algorithm\": \"in_place_fastx\", \"blocksize\": 1024, \"time\": 209894180.0}, {\"algorithm\": \"in_place_fastx\", \"blocksize\": 1024, \"time\": 209921361.0}, {\"algorithm\": \"in_place_fastx\", \"blocksize\": 1024, \"time\": 209901535.0}, {\"algorithm\": \"in_place_fastx\", \"blocksize\": 1024, \"time\": 209926967.0}, {\"algorithm\": \"in_place_fastx\", \"blocksize\": 1024, \"time\": 210462772.0}, {\"algorithm\": \"in_place_fastx\", \"blocksize\": 1024, \"time\": 209783673.0}, {\"algorithm\": \"in_place_fastx\", \"blocksize\": 1024, \"time\": 210714480.0}, {\"algorithm\": \"in_place_fastx\", \"blocksize\": 1024, \"time\": 210533242.0}, {\"algorithm\": \"in_place_fastx\", \"blocksize\": 1024, \"time\": 210664721.0}, {\"algorithm\": \"in_place_fastx\", \"blocksize\": 1024, \"time\": 210600005.0}, {\"algorithm\": \"in_place_fastx\", \"blocksize\": 1024, \"time\": 210540009.0}, {\"algorithm\": \"in_place_fastx\", \"blocksize\": 1024, \"time\": 210635442.0}, {\"algorithm\": \"in_place_fastx\", \"blocksize\": 1024, \"time\": 210717101.0}, {\"algorithm\": \"in_place_fastx\", \"blocksize\": 1024, \"time\": 210603494.0}, {\"algorithm\": \"in_place_fastx\", \"blocksize\": 1024, \"time\": 210547081.0}, {\"algorithm\": \"in_place_fastx\", \"blocksize\": 1024, \"time\": 210547380.0}, {\"algorithm\": \"in_place_fastx\", \"blocksize\": 1024, \"time\": 210560230.0}, {\"algorithm\": \"in_place_fastx\", \"blocksize\": 1024, \"time\": 210490727.0}, {\"algorithm\": \"in_place_fastx\", \"blocksize\": 1024, \"time\": 210656722.0}, {\"algorithm\": \"in_place_fastx\", \"blocksize\": 1024, \"time\": 210592017.0}, {\"algorithm\": \"in_place_fastx\", \"blocksize\": 1024, \"time\": 210833335.0}, {\"algorithm\": \"in_place_fastx\", \"blocksize\": 1024, \"time\": 210545856.0}, {\"algorithm\": \"in_place_fastx\", \"blocksize\": 1024, \"time\": 210586440.0}, {\"algorithm\": \"in_place_fastx\", \"blocksize\": 1024, \"time\": 210534451.0}, {\"algorithm\": \"in_place_fastx\", \"blocksize\": 1024, \"time\": 210587012.0}, {\"algorithm\": \"in_place_fastx\", \"blocksize\": 1024, \"time\": 210510337.0}, {\"algorithm\": \"in_place_fastx\", \"blocksize\": 1024, \"time\": 210565927.0}, {\"algorithm\": \"in_place_fastx\", \"blocksize\": 1024, \"time\": 210720454.0}, {\"algorithm\": \"in_place_fastx\", \"blocksize\": 1024, \"time\": 210544973.0}, {\"algorithm\": \"in_place_fastx\", \"blocksize\": 1024, \"time\": 210930280.0}, {\"algorithm\": \"in_place_fastx\", \"blocksize\": 1024, \"time\": 210648118.0}, {\"algorithm\": \"in_place_fastx\", \"blocksize\": 1024, \"time\": 210794265.0}, {\"algorithm\": \"in_place_fastx\", \"blocksize\": 1024, \"time\": 210676474.0}, {\"algorithm\": \"in_place_fastx\", \"blocksize\": 1024, \"time\": 210563002.0}, {\"algorithm\": \"in_place_fastx\", \"blocksize\": 1024, \"time\": 210509839.0}, {\"algorithm\": \"in_place_fastx\", \"blocksize\": 1024, \"time\": 210489964.0}, {\"algorithm\": \"in_place_fastx\", \"blocksize\": 1024, \"time\": 210480052.0}, {\"algorithm\": \"in_place_fastx\", \"blocksize\": 1024, \"time\": 211922897.0}, {\"algorithm\": \"in_place_fastx\", \"blocksize\": 1024, \"time\": 211726311.0}, {\"algorithm\": \"in_place_fastx\", \"blocksize\": 1024, \"time\": 211742177.0}, {\"algorithm\": \"in_place_fastx\", \"blocksize\": 1024, \"time\": 211158625.0}, {\"algorithm\": \"in_place_fastx\", \"blocksize\": 1024, \"time\": 210696313.0}, {\"algorithm\": \"in_place_fastx\", \"blocksize\": 1024, \"time\": 210643414.0}, {\"algorithm\": \"in_place_fastx\", \"blocksize\": 1024, \"time\": 210670667.0}, {\"algorithm\": \"in_place_fastx\", \"blocksize\": 1024, \"time\": 210594338.0}, {\"algorithm\": \"in_place_fastx\", \"blocksize\": 1024, \"time\": 210789663.0}, {\"algorithm\": \"in_place_fastx\", \"blocksize\": 1024, \"time\": 210501530.0}, {\"algorithm\": \"in_place_fastx\", \"blocksize\": 1024, \"time\": 209967154.0}, {\"algorithm\": \"in_place_fastx\", \"blocksize\": 1024, \"time\": 210502372.0}, {\"algorithm\": \"in_place_fastx\", \"blocksize\": 1024, \"time\": 210662718.0}, {\"algorithm\": \"in_place_fastx\", \"blocksize\": 1024, \"time\": 210743116.0}, {\"algorithm\": \"in_place_fastx\", \"blocksize\": 1024, \"time\": 210735029.0}, {\"algorithm\": \"in_place_fastx\", \"blocksize\": 1024, \"time\": 210740225.0}, {\"algorithm\": \"in_place_fastx\", \"blocksize\": 1024, \"time\": 210767884.0}, {\"algorithm\": \"in_place_fastx\", \"blocksize\": 1024, \"time\": 210711458.0}, {\"algorithm\": \"in_place_fastx\", \"blocksize\": 1024, \"time\": 210673165.0}, {\"algorithm\": \"in_place_fastx\", \"blocksize\": 1024, \"time\": 210554618.0}, {\"algorithm\": \"in_place_fastx\", \"blocksize\": 1024, \"time\": 210529864.0}, {\"algorithm\": \"in_place_fastx\", \"blocksize\": 1024, \"time\": 210604812.0}, {\"algorithm\": \"in_place_fastx\", \"blocksize\": 1024, \"time\": 210658534.0}, {\"algorithm\": \"bio\", \"blocksize\": 1024, \"time\": 133791608.0}, {\"algorithm\": \"bio\", \"blocksize\": 1024, \"time\": 133390959.0}, {\"algorithm\": \"bio\", \"blocksize\": 1024, \"time\": 133462533.0}, {\"algorithm\": \"bio\", \"blocksize\": 1024, \"time\": 133477028.0}, {\"algorithm\": \"bio\", \"blocksize\": 1024, \"time\": 133572664.0}, {\"algorithm\": \"bio\", \"blocksize\": 1024, \"time\": 133499754.0}, {\"algorithm\": \"bio\", \"blocksize\": 1024, \"time\": 133516277.0}, {\"algorithm\": \"bio\", \"blocksize\": 1024, \"time\": 133538072.0}, {\"algorithm\": \"bio\", \"blocksize\": 1024, \"time\": 133350009.0}, {\"algorithm\": \"bio\", \"blocksize\": 1024, \"time\": 133393915.0}, {\"algorithm\": \"bio\", \"blocksize\": 1024, \"time\": 133601796.0}, {\"algorithm\": \"bio\", \"blocksize\": 1024, \"time\": 133501925.0}, {\"algorithm\": \"bio\", \"blocksize\": 1024, \"time\": 133512113.0}, {\"algorithm\": \"bio\", \"blocksize\": 1024, \"time\": 133527489.0}, {\"algorithm\": \"bio\", \"blocksize\": 1024, \"time\": 133389023.0}, {\"algorithm\": \"bio\", \"blocksize\": 1024, \"time\": 133483708.0}, {\"algorithm\": \"bio\", \"blocksize\": 1024, \"time\": 133420082.0}, {\"algorithm\": \"bio\", \"blocksize\": 1024, \"time\": 133507364.0}, {\"algorithm\": \"bio\", \"blocksize\": 1024, \"time\": 133395259.0}, {\"algorithm\": \"bio\", \"blocksize\": 1024, \"time\": 133393621.0}, {\"algorithm\": \"bio\", \"blocksize\": 1024, \"time\": 133339491.0}, {\"algorithm\": \"bio\", \"blocksize\": 1024, \"time\": 133429772.0}, {\"algorithm\": \"bio\", \"blocksize\": 1024, \"time\": 133365939.0}, {\"algorithm\": \"bio\", \"blocksize\": 1024, \"time\": 133269824.0}, {\"algorithm\": \"bio\", \"blocksize\": 1024, \"time\": 133400543.0}, {\"algorithm\": \"bio\", \"blocksize\": 1024, \"time\": 133405167.0}, {\"algorithm\": \"bio\", \"blocksize\": 1024, \"time\": 133293085.0}, {\"algorithm\": \"bio\", \"blocksize\": 1024, \"time\": 133482501.0}, {\"algorithm\": \"bio\", \"blocksize\": 1024, \"time\": 133486268.0}, {\"algorithm\": \"bio\", \"blocksize\": 1024, \"time\": 133294430.0}, {\"algorithm\": \"bio\", \"blocksize\": 1024, \"time\": 133360220.0}, {\"algorithm\": \"bio\", \"blocksize\": 1024, \"time\": 133259722.0}, {\"algorithm\": \"bio\", \"blocksize\": 1024, \"time\": 133380370.0}, {\"algorithm\": \"bio\", \"blocksize\": 1024, \"time\": 133396302.0}, {\"algorithm\": \"bio\", \"blocksize\": 1024, \"time\": 133214054.0}, {\"algorithm\": \"bio\", \"blocksize\": 1024, \"time\": 133330379.0}, {\"algorithm\": \"bio\", \"blocksize\": 1024, \"time\": 133397071.0}, {\"algorithm\": \"bio\", \"blocksize\": 1024, \"time\": 133386554.0}, {\"algorithm\": \"bio\", \"blocksize\": 1024, \"time\": 133305473.0}, {\"algorithm\": \"bio\", \"blocksize\": 1024, \"time\": 133424358.0}, {\"algorithm\": \"bio\", \"blocksize\": 1024, \"time\": 133390761.0}, {\"algorithm\": \"bio\", \"blocksize\": 1024, \"time\": 133397613.0}, {\"algorithm\": \"bio\", \"blocksize\": 1024, \"time\": 133330775.0}, {\"algorithm\": \"bio\", \"blocksize\": 1024, \"time\": 133410726.0}, {\"algorithm\": \"bio\", \"blocksize\": 1024, \"time\": 133394104.0}, {\"algorithm\": \"bio\", \"blocksize\": 1024, \"time\": 133409242.0}, {\"algorithm\": \"bio\", \"blocksize\": 1024, \"time\": 133548217.0}, {\"algorithm\": \"bio\", \"blocksize\": 1024, \"time\": 133546649.0}, {\"algorithm\": \"bio\", \"blocksize\": 1024, \"time\": 133410516.0}, {\"algorithm\": \"bio\", \"blocksize\": 1024, \"time\": 133491573.0}, {\"algorithm\": \"bio\", \"blocksize\": 1024, \"time\": 133424926.0}, {\"algorithm\": \"bio\", \"blocksize\": 1024, \"time\": 133364570.0}, {\"algorithm\": \"bio\", \"blocksize\": 1024, \"time\": 133363080.0}, {\"algorithm\": \"bio\", \"blocksize\": 1024, \"time\": 133404269.0}, {\"algorithm\": \"bio\", \"blocksize\": 1024, \"time\": 133397109.0}, {\"algorithm\": \"bio\", \"blocksize\": 1024, \"time\": 133433443.0}, {\"algorithm\": \"bio\", \"blocksize\": 1024, \"time\": 133423505.0}, {\"algorithm\": \"bio\", \"blocksize\": 1024, \"time\": 133441079.0}, {\"algorithm\": \"bio\", \"blocksize\": 1024, \"time\": 133449171.0}, {\"algorithm\": \"bio\", \"blocksize\": 1024, \"time\": 133305587.0}, {\"algorithm\": \"bio\", \"blocksize\": 1024, \"time\": 133382518.0}, {\"algorithm\": \"bio\", \"blocksize\": 1024, \"time\": 133353181.0}, {\"algorithm\": \"bio\", \"blocksize\": 1024, \"time\": 133250211.0}, {\"algorithm\": \"bio\", \"blocksize\": 1024, \"time\": 133334355.0}, {\"algorithm\": \"bio\", \"blocksize\": 1024, \"time\": 133342919.0}, {\"algorithm\": \"bio\", \"blocksize\": 1024, \"time\": 133398038.0}, {\"algorithm\": \"bio\", \"blocksize\": 1024, \"time\": 133220020.0}, {\"algorithm\": \"bio\", \"blocksize\": 1024, \"time\": 133278669.0}, {\"algorithm\": \"bio\", \"blocksize\": 1024, \"time\": 133357564.0}, {\"algorithm\": \"bio\", \"blocksize\": 1024, \"time\": 133403568.0}, {\"algorithm\": \"bio\", \"blocksize\": 1024, \"time\": 133392144.0}, {\"algorithm\": \"bio\", \"blocksize\": 1024, \"time\": 133213588.0}, {\"algorithm\": \"bio\", \"blocksize\": 1024, \"time\": 133463681.0}, {\"algorithm\": \"bio\", \"blocksize\": 1024, \"time\": 133234667.0}, {\"algorithm\": \"bio\", \"blocksize\": 1024, \"time\": 133497799.0}, {\"algorithm\": \"bio\", \"blocksize\": 1024, \"time\": 133346536.0}, {\"algorithm\": \"bio\", \"blocksize\": 1024, \"time\": 133364818.0}, {\"algorithm\": \"bio\", \"blocksize\": 1024, \"time\": 133367547.0}, {\"algorithm\": \"bio\", \"blocksize\": 1024, \"time\": 133309900.0}, {\"algorithm\": \"bio\", \"blocksize\": 1024, \"time\": 133433176.0}, {\"algorithm\": \"bio\", \"blocksize\": 1024, \"time\": 133264303.0}, {\"algorithm\": \"bio\", \"blocksize\": 1024, \"time\": 133381734.0}, {\"algorithm\": \"bio\", \"blocksize\": 1024, \"time\": 133365667.0}, {\"algorithm\": \"bio\", \"blocksize\": 1024, \"time\": 133396129.0}, {\"algorithm\": \"bio\", \"blocksize\": 1024, \"time\": 133420781.0}, {\"algorithm\": \"bio\", \"blocksize\": 1024, \"time\": 133369581.0}, {\"algorithm\": \"bio\", \"blocksize\": 1024, \"time\": 133320284.0}, {\"algorithm\": \"bio\", \"blocksize\": 1024, \"time\": 133236444.0}, {\"algorithm\": \"bio\", \"blocksize\": 1024, \"time\": 133463994.0}, {\"algorithm\": \"bio\", \"blocksize\": 1024, \"time\": 133498046.0}, {\"algorithm\": \"bio\", \"blocksize\": 1024, \"time\": 133442535.0}, {\"algorithm\": \"bio\", \"blocksize\": 1024, \"time\": 133361571.0}, {\"algorithm\": \"bio\", \"blocksize\": 1024, \"time\": 133449369.0}, {\"algorithm\": \"bio\", \"blocksize\": 1024, \"time\": 133448079.0}, {\"algorithm\": \"bio\", \"blocksize\": 1024, \"time\": 133509589.0}, {\"algorithm\": \"bio\", \"blocksize\": 1024, \"time\": 133416200.0}, {\"algorithm\": \"bio\", \"blocksize\": 1024, \"time\": 133305970.0}, {\"algorithm\": \"bio\", \"blocksize\": 1024, \"time\": 133395818.0}, {\"algorithm\": \"bio\", \"blocksize\": 1024, \"time\": 133359967.0}, {\"algorithm\": \"bio\", \"blocksize\": 1024, \"time\": 133371144.0}, {\"algorithm\": \"needletail\", \"blocksize\": 1024, \"time\": 117443736.0}, {\"algorithm\": \"needletail\", \"blocksize\": 1024, \"time\": 116874446.0}, {\"algorithm\": \"needletail\", \"blocksize\": 1024, \"time\": 116802394.0}, {\"algorithm\": \"needletail\", \"blocksize\": 1024, \"time\": 116715774.0}, {\"algorithm\": \"needletail\", \"blocksize\": 1024, \"time\": 116593727.0}, {\"algorithm\": \"needletail\", \"blocksize\": 1024, \"time\": 116697931.0}, {\"algorithm\": \"needletail\", \"blocksize\": 1024, \"time\": 116551416.0}, {\"algorithm\": \"needletail\", \"blocksize\": 1024, \"time\": 116682402.0}, {\"algorithm\": \"needletail\", \"blocksize\": 1024, \"time\": 116646732.0}, {\"algorithm\": \"needletail\", \"blocksize\": 1024, \"time\": 116686984.0}, {\"algorithm\": \"needletail\", \"blocksize\": 1024, \"time\": 116664659.0}, {\"algorithm\": \"needletail\", \"blocksize\": 1024, \"time\": 116704877.0}, {\"algorithm\": \"needletail\", \"blocksize\": 1024, \"time\": 116566491.0}, {\"algorithm\": \"needletail\", \"blocksize\": 1024, \"time\": 116713477.0}, {\"algorithm\": \"needletail\", \"blocksize\": 1024, \"time\": 116516173.0}, {\"algorithm\": \"needletail\", \"blocksize\": 1024, \"time\": 116674791.0}, {\"algorithm\": \"needletail\", \"blocksize\": 1024, \"time\": 116558640.0}, {\"algorithm\": \"needletail\", \"blocksize\": 1024, \"time\": 116586013.0}, {\"algorithm\": \"needletail\", \"blocksize\": 1024, \"time\": 116665069.0}, {\"algorithm\": \"needletail\", \"blocksize\": 1024, \"time\": 116839498.0}, {\"algorithm\": \"needletail\", \"blocksize\": 1024, \"time\": 116730445.0}, {\"algorithm\": \"needletail\", \"blocksize\": 1024, \"time\": 116911345.0}, {\"algorithm\": \"needletail\", \"blocksize\": 1024, \"time\": 116682846.0}, {\"algorithm\": \"needletail\", \"blocksize\": 1024, \"time\": 116852104.0}, {\"algorithm\": \"needletail\", \"blocksize\": 1024, \"time\": 116697127.0}, {\"algorithm\": \"needletail\", \"blocksize\": 1024, \"time\": 116913867.0}, {\"algorithm\": \"needletail\", \"blocksize\": 1024, \"time\": 116749182.0}, {\"algorithm\": \"needletail\", \"blocksize\": 1024, \"time\": 116793348.0}, {\"algorithm\": \"needletail\", \"blocksize\": 1024, \"time\": 116730265.0}, {\"algorithm\": \"needletail\", \"blocksize\": 1024, \"time\": 116766350.0}, {\"algorithm\": \"needletail\", \"blocksize\": 1024, \"time\": 116697542.0}, {\"algorithm\": \"needletail\", \"blocksize\": 1024, \"time\": 116575458.0}, {\"algorithm\": \"needletail\", \"blocksize\": 1024, \"time\": 116460734.0}, {\"algorithm\": \"needletail\", \"blocksize\": 1024, \"time\": 116561530.0}, {\"algorithm\": \"needletail\", \"blocksize\": 1024, \"time\": 116428027.0}, {\"algorithm\": \"needletail\", \"blocksize\": 1024, \"time\": 116540186.0}, {\"algorithm\": \"needletail\", \"blocksize\": 1024, \"time\": 116441854.0}, {\"algorithm\": \"needletail\", \"blocksize\": 1024, \"time\": 116526094.0}, {\"algorithm\": \"needletail\", \"blocksize\": 1024, \"time\": 116519956.0}, {\"algorithm\": \"needletail\", \"blocksize\": 1024, \"time\": 116666965.0}, {\"algorithm\": \"needletail\", \"blocksize\": 1024, \"time\": 116613861.0}, {\"algorithm\": \"needletail\", \"blocksize\": 1024, \"time\": 116672804.0}, {\"algorithm\": \"needletail\", \"blocksize\": 1024, \"time\": 116516849.0}, {\"algorithm\": \"needletail\", \"blocksize\": 1024, \"time\": 116545129.0}, {\"algorithm\": \"needletail\", \"blocksize\": 1024, \"time\": 116631872.0}, {\"algorithm\": \"needletail\", \"blocksize\": 1024, \"time\": 116747340.0}, {\"algorithm\": \"needletail\", \"blocksize\": 1024, \"time\": 116580594.0}, {\"algorithm\": \"needletail\", \"blocksize\": 1024, \"time\": 116543847.0}, {\"algorithm\": \"needletail\", \"blocksize\": 1024, \"time\": 116344669.0}, {\"algorithm\": \"needletail\", \"blocksize\": 1024, \"time\": 116484826.0}, {\"algorithm\": \"needletail\", \"blocksize\": 1024, \"time\": 116436780.0}, {\"algorithm\": \"needletail\", \"blocksize\": 1024, \"time\": 116524471.0}, {\"algorithm\": \"needletail\", \"blocksize\": 1024, \"time\": 116871148.0}, {\"algorithm\": \"needletail\", \"blocksize\": 1024, \"time\": 117176356.0}, {\"algorithm\": \"needletail\", \"blocksize\": 1024, \"time\": 116991658.0}, {\"algorithm\": \"needletail\", \"blocksize\": 1024, \"time\": 117142582.0}, {\"algorithm\": \"needletail\", \"blocksize\": 1024, \"time\": 117196982.0}, {\"algorithm\": \"needletail\", \"blocksize\": 1024, \"time\": 117152991.0}, {\"algorithm\": \"needletail\", \"blocksize\": 1024, \"time\": 116958836.0}, {\"algorithm\": \"needletail\", \"blocksize\": 1024, \"time\": 116979978.0}, {\"algorithm\": \"needletail\", \"blocksize\": 1024, \"time\": 116864610.0}, {\"algorithm\": \"needletail\", \"blocksize\": 1024, \"time\": 116983210.0}, {\"algorithm\": \"needletail\", \"blocksize\": 1024, \"time\": 117113172.0}, {\"algorithm\": \"needletail\", \"blocksize\": 1024, \"time\": 117157281.0}, {\"algorithm\": \"needletail\", \"blocksize\": 1024, \"time\": 117049049.0}, {\"algorithm\": \"needletail\", \"blocksize\": 1024, \"time\": 117062303.0}, {\"algorithm\": \"needletail\", \"blocksize\": 1024, \"time\": 116983794.0}, {\"algorithm\": \"needletail\", \"blocksize\": 1024, \"time\": 117071870.0}, {\"algorithm\": \"needletail\", \"blocksize\": 1024, \"time\": 116944640.0}, {\"algorithm\": \"needletail\", \"blocksize\": 1024, \"time\": 117008751.0}, {\"algorithm\": \"needletail\", \"blocksize\": 1024, \"time\": 116727781.0}, {\"algorithm\": \"needletail\", \"blocksize\": 1024, \"time\": 116793211.0}, {\"algorithm\": \"needletail\", \"blocksize\": 1024, \"time\": 116710189.0}, {\"algorithm\": \"needletail\", \"blocksize\": 1024, \"time\": 116755677.0}, {\"algorithm\": \"needletail\", \"blocksize\": 1024, \"time\": 116680137.0}, {\"algorithm\": \"needletail\", \"blocksize\": 1024, \"time\": 116745104.0}, {\"algorithm\": \"needletail\", \"blocksize\": 1024, \"time\": 116646748.0}, {\"algorithm\": \"needletail\", \"blocksize\": 1024, \"time\": 116730459.0}, {\"algorithm\": \"needletail\", \"blocksize\": 1024, \"time\": 116684116.0}, {\"algorithm\": \"needletail\", \"blocksize\": 1024, \"time\": 116727319.0}, {\"algorithm\": \"needletail\", \"blocksize\": 1024, \"time\": 116630618.0}, {\"algorithm\": \"needletail\", \"blocksize\": 1024, \"time\": 116769283.0}, {\"algorithm\": \"needletail\", \"blocksize\": 1024, \"time\": 116730317.0}, {\"algorithm\": \"needletail\", \"blocksize\": 1024, \"time\": 116952165.0}, {\"algorithm\": \"needletail\", \"blocksize\": 1024, \"time\": 116870544.0}, {\"algorithm\": \"needletail\", \"blocksize\": 1024, \"time\": 116882260.0}, {\"algorithm\": \"needletail\", \"blocksize\": 1024, \"time\": 116759806.0}, {\"algorithm\": \"needletail\", \"blocksize\": 1024, \"time\": 116631284.0}, {\"algorithm\": \"needletail\", \"blocksize\": 1024, \"time\": 116663512.0}, {\"algorithm\": \"needletail\", \"blocksize\": 1024, \"time\": 116759665.0}, {\"algorithm\": \"needletail\", \"blocksize\": 1024, \"time\": 116633019.0}, {\"algorithm\": \"needletail\", \"blocksize\": 1024, \"time\": 116580639.0}, {\"algorithm\": \"needletail\", \"blocksize\": 1024, \"time\": 116199823.0}, {\"algorithm\": \"needletail\", \"blocksize\": 1024, \"time\": 116681904.0}, {\"algorithm\": \"needletail\", \"blocksize\": 1024, \"time\": 116725675.0}, {\"algorithm\": \"needletail\", \"blocksize\": 1024, \"time\": 116876529.0}, {\"algorithm\": \"needletail\", \"blocksize\": 1024, \"time\": 116823392.0}, {\"algorithm\": \"needletail\", \"blocksize\": 1024, \"time\": 116880065.0}, {\"algorithm\": \"needletail\", \"blocksize\": 1024, \"time\": 116780723.0}, {\"algorithm\": \"needletail\", \"blocksize\": 1024, \"time\": 116836596.0}]}}, {\"mode\": \"vega-lite\"});\n",
       "</script>"
      ],
      "text/plain": [
       "alt.LayerChart(...)"
      ]
     },
     "execution_count": 3,
     "metadata": {},
     "output_type": "execute_result"
    }
   ],
   "source": [
    "raw_df = raw_df[raw_df[\"algorithm\"] != \"in_place_fastx_parallel\"];\n",
    "\n",
    "points = altair.Chart(raw_df).mark_line(point=True).encode(\n",
    "    x=altair.X('blocksize', scale=altair.Scale(type=\"log\", base=2)),\n",
    "    y=altair.Y('median(time)'),\n",
    "    color='algorithm'\n",
    ")\n",
    "\n",
    "error = altair.Chart(raw_df).mark_errorband(extent='iqr').encode(\n",
    "    x=altair.X('blocksize:Q', scale=altair.Scale(type=\"log\", base=2)),\n",
    "    y=altair.Y('time:Q'),\n",
    "    color='algorithm',\n",
    ")\n",
    "\n",
    "\n",
    "points + error"
   ]
  }
 ],
 "metadata": {
  "kernelspec": {
   "display_name": "Python 3",
   "language": "python",
   "name": "python3"
  },
  "language_info": {
   "codemirror_mode": {
    "name": "ipython",
    "version": 3
   },
   "file_extension": ".py",
   "mimetype": "text/x-python",
   "name": "python",
   "nbconvert_exporter": "python",
   "pygments_lexer": "ipython3",
   "version": "3.9.6"
  }
 },
 "nbformat": 4,
 "nbformat_minor": 4
}
